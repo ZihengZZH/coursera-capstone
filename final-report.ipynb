{
 "cells": [
  {
   "cell_type": "markdown",
   "metadata": {},
   "source": [
    "# What is the best location to run a restaurant in London?"
   ]
  },
  {
   "cell_type": "markdown",
   "metadata": {},
   "source": [
    "## Introduction / Business Problem"
   ]
  },
  {
   "cell_type": "markdown",
   "metadata": {},
   "source": [
    "London, a well-known multicultural city, is a great destination for travel and study. Beyond that, much famous cuisine can be found in the very heart of London, such as burger, lobster, sushi, or Chinese cuisine. Some restaurant owners reported that their annual profit were increasily attractive but they were also confronted with severe competition. Therefore, when one is determined to run a restaurant, say sushi, in London, the location could an essential factor to his success. The problem remains how to determine the (possibly) best location for his restaurant by the means of Data Science?"
   ]
  },
  {
   "cell_type": "markdown",
   "metadata": {},
   "source": [
    "## Data"
   ]
  },
  {
   "cell_type": "markdown",
   "metadata": {},
   "source": [
    "Data is of significantly importance to Data Science problem, and in my project I will focus on the following aspects of restaurants in the vincity of London:\n",
    "* type (sushi / burger / steak)\n",
    "* size (capcity)\n",
    "* review (comment)\n",
    "* location (clustering)"
   ]
  },
  {
   "cell_type": "markdown",
   "metadata": {},
   "source": [
    "More specifically, the **type** of restaurants could reflect the taste of Londoners, and for instance, if there are more steak houses than sushi restaurants in London, one could conclude that Londoners might love steak more than sushi. The **size** of restaurants indicates its capacity, how many customers it can fit and how many customers it generally serves per day. The **reivew** refers to the direct comments from customers, which is also essential to rank a restaurant. The **location** of restaurants, along with the type information, could help us to determine the best location of the new restaurant.\n",
    "\n",
    "All the data will be collected from Foursquare location data, which is also open source for following validation."
   ]
  },
  {
   "cell_type": "markdown",
   "metadata": {},
   "source": [
    "## Methodology"
   ]
  },
  {
   "cell_type": "markdown",
   "metadata": {},
   "source": [
    "## Results"
   ]
  },
  {
   "cell_type": "markdown",
   "metadata": {},
   "source": [
    "## Discussion"
   ]
  },
  {
   "cell_type": "markdown",
   "metadata": {},
   "source": [
    "## Conclusion"
   ]
  }
 ],
 "metadata": {
  "kernelspec": {
   "display_name": "Python 3",
   "language": "python",
   "name": "python3"
  },
  "language_info": {
   "codemirror_mode": {
    "name": "ipython",
    "version": 3
   },
   "file_extension": ".py",
   "mimetype": "text/x-python",
   "name": "python",
   "nbconvert_exporter": "python",
   "pygments_lexer": "ipython3",
   "version": "3.6.8"
  }
 },
 "nbformat": 4,
 "nbformat_minor": 2
}
